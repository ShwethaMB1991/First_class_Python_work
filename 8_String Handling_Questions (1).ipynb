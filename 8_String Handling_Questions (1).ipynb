{
 "cells": [
  {
   "cell_type": "raw",
   "metadata": {},
   "source": [
    "Python Program to Replace all Occurrences of ‘a’ with $ in a String\n",
    "\n",
    "Given String = \"apple\""
   ]
  },
  {
   "cell_type": "code",
   "execution_count": 1,
   "metadata": {},
   "outputs": [
    {
     "name": "stdout",
     "output_type": "stream",
     "text": [
      "$pple\n"
     ]
    }
   ],
   "source": [
    "a = \"apple\"\n",
    "b = a.replace(\"a\",\"$\")\n",
    "print(b)"
   ]
  },
  {
   "cell_type": "raw",
   "metadata": {},
   "source": [
    "2.Python Program to Remove the 5th Index Character from a String"
   ]
  },
  {
   "cell_type": "code",
   "execution_count": 30,
   "metadata": {},
   "outputs": [
    {
     "name": "stdout",
     "output_type": "stream",
     "text": [
      "Mindtck\n"
     ]
    }
   ],
   "source": [
    "s = \"Mindteck\"\n",
    "s1 = s.replace(s[5],\"\")\n",
    "print(s1)\n"
   ]
  },
  {
   "cell_type": "raw",
   "metadata": {},
   "source": [
    "3.Python Program to Form a New String where the First Character and the Last Character have been Exchanged"
   ]
  },
  {
   "cell_type": "code",
   "execution_count": 29,
   "metadata": {},
   "outputs": [
    {
     "name": "stdout",
     "output_type": "stream",
     "text": [
      "nython\n",
      "pythop\n"
     ]
    }
   ],
   "source": [
    "s =\"python\"\n",
    "s1 = s.replace(\"p\",\"n\")\n",
    "print(s1)\n",
    "s2 = s1.replace(\"n\",\"p\")\n",
    "print(s2)"
   ]
  },
  {
   "cell_type": "raw",
   "metadata": {},
   "source": [
    "4.Python Program to Count the Number of Vowels in a String"
   ]
  },
  {
   "cell_type": "code",
   "execution_count": 13,
   "metadata": {},
   "outputs": [
    {
     "name": "stdout",
     "output_type": "stream",
     "text": [
      "10\n"
     ]
    }
   ],
   "source": [
    "s = \"python is a programming language\"\n",
    "count = 0\n",
    "vowels = \"aeiou\"\n",
    "\n",
    "for i in s:\n",
    "    if i in vowels:\n",
    "        count = count + 1\n",
    "print(count)"
   ]
  },
  {
   "cell_type": "raw",
   "metadata": {},
   "source": [
    "5.Python Program to Take in a String and Replace Every Blank Space with Hyphen"
   ]
  },
  {
   "cell_type": "code",
   "execution_count": 14,
   "metadata": {},
   "outputs": [
    {
     "name": "stdout",
     "output_type": "stream",
     "text": [
      "python-is-a-programming-language\n"
     ]
    }
   ],
   "source": [
    "s = \"python is a programming language\"\n",
    "\n",
    "s1 = s.replace(\" \", \"-\")\n",
    "\n",
    "print(s1)"
   ]
  },
  {
   "cell_type": "raw",
   "metadata": {},
   "source": [
    "6.Python Program to Calculate the Length of a String Without Using a Library Function"
   ]
  },
  {
   "cell_type": "code",
   "execution_count": 28,
   "metadata": {},
   "outputs": [
    {
     "name": "stdout",
     "output_type": "stream",
     "text": [
      "32\n"
     ]
    }
   ],
   "source": [
    "s = \"python is a programming language\"\n",
    "\n",
    "l = 0\n",
    "\n",
    "for i in s:\n",
    "    l = l + 1\n",
    "    \n",
    "print(l)"
   ]
  },
  {
   "cell_type": "raw",
   "metadata": {},
   "source": [
    "7.Python Program to Remove the Characters of Odd Index Values in a String"
   ]
  },
  {
   "cell_type": "code",
   "execution_count": 16,
   "metadata": {},
   "outputs": [
    {
     "name": "stdout",
     "output_type": "stream",
     "text": [
      "pormig\n"
     ]
    }
   ],
   "source": [
    "s = \"programming\"\n",
    "s2 = \"\"\n",
    "for i in range (len(s)):\n",
    "    if i % 2 == 0:\n",
    "        s2 = s2 + s[i]\n",
    "print(s2)"
   ]
  },
  {
   "cell_type": "raw",
   "metadata": {},
   "source": [
    "8.Python Program to Calculate the Number of Words and the Number of Characters Present in a String"
   ]
  },
  {
   "cell_type": "code",
   "execution_count": 18,
   "metadata": {},
   "outputs": [
    {
     "name": "stdout",
     "output_type": "stream",
     "text": [
      "5\n",
      "32\n"
     ]
    }
   ],
   "source": [
    "s = \"Python is a Programming language\"\n",
    "\n",
    "length = s.split()\n",
    "print(len(length))\n",
    "print(len(s))"
   ]
  },
  {
   "cell_type": "raw",
   "metadata": {},
   "source": [
    "9.Python Program to Take in Two Strings and Display the Larger String without Using Built-in Functions"
   ]
  },
  {
   "cell_type": "code",
   "execution_count": 19,
   "metadata": {},
   "outputs": [
    {
     "name": "stdout",
     "output_type": "stream",
     "text": [
      "Python\n"
     ]
    }
   ],
   "source": [
    "str1 = \"Python\"\n",
    "str2 = \"Programming langague\"\n",
    "count1 = 0\n",
    "count2 = 0\n",
    "\n",
    "for i in str1:\n",
    "    count1 = count1 + 1\n",
    "for i in str2:\n",
    "    count2 = count2 + 1\n",
    "\n",
    "if str1 < str2:\n",
    "    print(str2)\n",
    "else:\n",
    "    print(str1)"
   ]
  },
  {
   "cell_type": "raw",
   "metadata": {},
   "source": [
    "10.Python Program to Count Number of Lowercase Characters in a String"
   ]
  },
  {
   "cell_type": "code",
   "execution_count": 20,
   "metadata": {},
   "outputs": [
    {
     "name": "stdout",
     "output_type": "stream",
     "text": [
      "11\n"
     ]
    }
   ],
   "source": [
    "str2 = \"WoRking In MindTEck\"\n",
    "count = 0\n",
    "for i in str2:\n",
    "    if i.islower():\n",
    "        count = count + 1\n",
    "\n",
    "print(count)"
   ]
  },
  {
   "cell_type": "raw",
   "metadata": {},
   "source": [
    "11.Python Program to Check if a String is a Palindrome or Not"
   ]
  },
  {
   "cell_type": "code",
   "execution_count": 21,
   "metadata": {},
   "outputs": [
    {
     "name": "stdout",
     "output_type": "stream",
     "text": [
      " is not a palindrome\n"
     ]
    }
   ],
   "source": [
    "string = \"Mindteck\"\n",
    "\n",
    "is_palindrome = string == string[::-1]\n",
    "\n",
    "if is_palindrome:\n",
    "    print(\" is a palindrome\")\n",
    "else:\n",
    "    print(\" is not a palindrome\")"
   ]
  },
  {
   "cell_type": "raw",
   "metadata": {},
   "source": [
    "12.Python Program to Calculate the Number of Upper Case Letters and Lower Case Letters in a String"
   ]
  },
  {
   "cell_type": "code",
   "execution_count": 22,
   "metadata": {},
   "outputs": [
    {
     "name": "stdout",
     "output_type": "stream",
     "text": [
      "lower case count is  25\n",
      "upper case count is  4\n"
     ]
    }
   ],
   "source": [
    "str2 = \"Python is A Programming Langugage\"\n",
    "count = 0\n",
    "count1 = 0\n",
    "for i in str2:\n",
    "    if i.islower():\n",
    "        count = count + 1\n",
    "\n",
    "print(\"lower case count is \", count)\n",
    "\n",
    "for i in str2:\n",
    "    if i.isupper():\n",
    "        count1 = count1 + 1\n",
    "\n",
    "print(\"upper case count is \", count1)"
   ]
  },
  {
   "cell_type": "raw",
   "metadata": {},
   "source": [
    "13.Python Program to Calculate the Number of Digits and Letters in a String"
   ]
  },
  {
   "cell_type": "code",
   "execution_count": 23,
   "metadata": {},
   "outputs": [
    {
     "name": "stdout",
     "output_type": "stream",
     "text": [
      "56\n",
      "2\n",
      "number of digit count is  2\n",
      "number of letters count is  54\n"
     ]
    }
   ],
   "source": [
    "str2 = \" Galaxy Runner 9 and Cosmic Voyager 3 are air space ship\"\n",
    "count1 = 0\n",
    "print(len(str2))\n",
    "for i in str2:\n",
    "    if i.isdigit():\n",
    "        count1 = count1 + 1\n",
    "print(count1)\n",
    "print(\"number of digit count is \", count1)\n",
    "\n",
    "print(\"number of letters count is \",  (len(str2) - count1))"
   ]
  },
  {
   "cell_type": "raw",
   "metadata": {},
   "source": [
    "14.Python Program to Form a New String Made of the First 2 and Last 2 characters From a Given String"
   ]
  },
  {
   "cell_type": "code",
   "execution_count": 24,
   "metadata": {},
   "outputs": [
    {
     "name": "stdout",
     "output_type": "stream",
     "text": [
      "pyon\n"
     ]
    }
   ],
   "source": [
    "str = \"python\"\n",
    "\n",
    "result = str[:2] + str[-2:]\n",
    "print(result)"
   ]
  },
  {
   "cell_type": "raw",
   "metadata": {},
   "source": [
    "15.Python Program to Count the Occurrences of Each Word in a Given String Sentence\n",
    "\n",
    "\"Everybody is selfish , the ratio diferrs , time to time , person to to person\"\n",
    "\n",
    "count the occurance of \"time\""
   ]
  },
  {
   "cell_type": "code",
   "execution_count": 27,
   "metadata": {},
   "outputs": [
    {
     "name": "stdout",
     "output_type": "stream",
     "text": [
      "The word time occurs 4 times\n"
     ]
    }
   ],
   "source": [
    "sentence = \"Everybody is selfish , the ratio diferrs , time to time , person to to person, time to time\"\n",
    "\n",
    "words = sentence.lower().split()\n",
    "\n",
    "word_to_count = \"time\"\n",
    "count = words.count(word_to_count)\n",
    "\n",
    "print(\"The word time occurs\", count, \"times\")"
   ]
  },
  {
   "cell_type": "code",
   "execution_count": null,
   "metadata": {},
   "outputs": [],
   "source": []
  },
  {
   "cell_type": "code",
   "execution_count": null,
   "metadata": {},
   "outputs": [],
   "source": []
  }
 ],
 "metadata": {
  "kernelspec": {
   "display_name": "Python 3 (ipykernel)",
   "language": "python",
   "name": "python3"
  },
  "language_info": {
   "codemirror_mode": {
    "name": "ipython",
    "version": 3
   },
   "file_extension": ".py",
   "mimetype": "text/x-python",
   "name": "python",
   "nbconvert_exporter": "python",
   "pygments_lexer": "ipython3",
   "version": "3.13.5"
  }
 },
 "nbformat": 4,
 "nbformat_minor": 4
}
