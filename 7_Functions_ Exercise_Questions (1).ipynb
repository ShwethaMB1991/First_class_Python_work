{
 "cells": [
  {
   "cell_type": "code",
   "execution_count": 1,
   "metadata": {},
   "outputs": [],
   "source": [
    "# Write a function to hours to minutes , user should able to give hours as input\n",
    "\n",
    "# your Answer\n",
    "\n",
    "def hrstominscalc(x):\n",
    "    y = x*2\n",
    "    print(x,\"hours equals to\",y,\"minutes\")"
   ]
  },
  {
   "cell_type": "code",
   "execution_count": 2,
   "metadata": {},
   "outputs": [
    {
     "name": "stdout",
     "output_type": "stream",
     "text": [
      "2 hours equals to 4 minutes\n"
     ]
    }
   ],
   "source": [
    "hrstominscalc(2)"
   ]
  },
  {
   "cell_type": "code",
   "execution_count": 39,
   "metadata": {},
   "outputs": [
    {
     "name": "stdin",
     "output_type": "stream",
     "text": [
      "Enter the length in centimeters 100\n"
     ]
    },
    {
     "name": "stdout",
     "output_type": "stream",
     "text": [
      "100.0 cm is equal to 1.0 meters\n"
     ]
    }
   ],
   "source": [
    "# Write a function to convert centimeter to meter , user shoulb be able to give centimeter as input\n",
    "# your Answer\n",
    "\n",
    "def cen(a):\n",
    "    return a / 100\n",
    "a = float(input(\"Enter the length in centimeters\"))\n",
    "meters =cen(a)\n",
    "print(f\"{centimeters} cm is equal to {meters} meters\")\n",
    "\n",
    "\n",
    "\n"
   ]
  },
  {
   "cell_type": "code",
   "execution_count": 23,
   "metadata": {},
   "outputs": [
    {
     "name": "stdin",
     "output_type": "stream",
     "text": [
      "Enter distance in kilometers:  80\n"
     ]
    },
    {
     "name": "stdout",
     "output_type": "stream",
     "text": [
      "Distance in miles: 49.7096952\n"
     ]
    }
   ],
   "source": [
    "# Write a function to convert miles to Kilometer , user shoulb be able to give miles as input\n",
    "\n",
    "#Defining a function to convert km to miles\n",
    "def a(kilometers):\n",
    "    b = 0.62137119\n",
    "    miles = kilometers * b\n",
    "    return miles\n",
    "kilometers = float(input(\"Enter distance in kilometers: \"))\n",
    "miles = a(kilometers)\n",
    "print(\"Distance in miles:\", miles)\n"
   ]
  },
  {
   "cell_type": "code",
   "execution_count": 24,
   "metadata": {},
   "outputs": [
    {
     "name": "stdin",
     "output_type": "stream",
     "text": [
      "Enter weight in pounds:  4\n"
     ]
    },
    {
     "name": "stdout",
     "output_type": "stream",
     "text": [
      "4.0 pounds is equal to 1.81 kilograms\n"
     ]
    }
   ],
   "source": [
    "# Write a function to convert pounds to Kilogram , user shoulb be able to give pounds as input\n",
    "# your Answer\n",
    "def pounds_to_kilograms(pounds):\n",
    "  kilograms = pounds / 2.20462\n",
    "  return kilograms\n",
    "pounds_input = float(input(\"Enter weight in pounds: \"))\n",
    "kilograms_output = pounds_to_kilograms(pounds_input)\n",
    "print(f\"{pounds_input} pounds is equal to {kilograms_output:.2f} kilograms\")\n",
    "\n",
    "\n"
   ]
  },
  {
   "cell_type": "code",
   "execution_count": 26,
   "metadata": {},
   "outputs": [
    {
     "name": "stdin",
     "output_type": "stream",
     "text": [
      "Enter the principal amount:  20\n",
      "Enter the annual interest rate (as a percentage):  20\n",
      "Enter the time period in years:  2024\n"
     ]
    },
    {
     "name": "stdout",
     "output_type": "stream",
     "text": [
      "80.0\n"
     ]
    }
   ],
   "source": [
    "# Write a function to calculate simple interest # all input shoulb be given by the user\n",
    "# your Answer\n",
    "def fun(principal, rate, time):\n",
    "    return (principal * rate * rate) / 100\n",
    "principal = float(input(\"Enter the principal amount: \"))\n",
    "rate = float(input(\"Enter the annual interest rate (as a percentage): \"))\n",
    "time = float(input(\"Enter the time period in years: \"))\n",
    "result = fun(principal, rate, time)\n",
    "print(result)\n",
    "\n",
    "\n",
    "\n"
   ]
  },
  {
   "cell_type": "code",
   "execution_count": 40,
   "metadata": {},
   "outputs": [
    {
     "name": "stdout",
     "output_type": "stream",
     "text": [
      "Area is 78.550000\n"
     ]
    }
   ],
   "source": [
    "# Write a function to calculate area of circle\n",
    "# your Answer\n",
    "\n",
    "def findArea(r):\n",
    "   PI = 3.142\n",
    "   return PI * (r*r);\n",
    "print(\"Area is %.6f\" % findArea(5));\n",
    "\n",
    "\n",
    "\n",
    "\n"
   ]
  },
  {
   "cell_type": "code",
   "execution_count": 29,
   "metadata": {},
   "outputs": [
    {
     "name": "stdin",
     "output_type": "stream",
     "text": [
      "Enter the radius of the circle:  7\n"
     ]
    },
    {
     "name": "stdout",
     "output_type": "stream",
     "text": [
      "The circumference of the circle with radius 7.0 is: 43.98226\n"
     ]
    }
   ],
   "source": [
    "# Write a function to calculate circumference of circle\n",
    "# your Answer\n",
    "\n",
    "def calculate_circumference(radius):\n",
    "    # Formula: Circumference = 2 * π * radius\n",
    "    pi = 3.14159\n",
    "    return 2 * pi * radius\n",
    "\n",
    "radius = float(input(\"Enter the radius of the circle: \"))\n",
    "\n",
    "circumference = calculate_circumference(radius)\n",
    "print(f\"The circumference of the circle with radius {radius} is: {circumference}\")\n",
    "\n",
    "\n",
    "\n"
   ]
  },
  {
   "cell_type": "code",
   "execution_count": 31,
   "metadata": {},
   "outputs": [
    {
     "name": "stdin",
     "output_type": "stream",
     "text": [
      "Enter the side value: 3\n"
     ]
    },
    {
     "name": "stdout",
     "output_type": "stream",
     "text": [
      "The perimeter of the square with side length 3.0 is: 12.0\n"
     ]
    }
   ],
   "source": [
    "# Write a function to calculate perimeter of square\n",
    "# your Answer\n",
    "\n",
    "def calculate_perimeter(side):\n",
    "    return 4 * side\n",
    "side =float(input(\"Enter the side value:\"))\n",
    "perimeter = calculate_perimeter(side)\n",
    "print(f\"The perimeter of the square with side length {side} is: {perimeter}\")\n",
    "\n",
    "\n",
    "\n",
    "\n",
    "\n"
   ]
  },
  {
   "cell_type": "code",
   "execution_count": 32,
   "metadata": {},
   "outputs": [
    {
     "name": "stdin",
     "output_type": "stream",
     "text": [
      "Enter the side value: 5\n"
     ]
    },
    {
     "name": "stdout",
     "output_type": "stream",
     "text": [
      "The area of the square with side length 5.0 is: 25.0\n"
     ]
    }
   ],
   "source": [
    "# Write a fucntion to calculate area of square\n",
    "# your Answer\n",
    "\n",
    "def calculate_area(side):\n",
    " return side * side\n",
    "side =float(input(\"Enter the side value:\"))\n",
    "area = calculate_area(side)\n",
    "print(f\"The area of the square with side length {side} is: {area}\")\n",
    "\n",
    "\n",
    "\n",
    "\n"
   ]
  },
  {
   "cell_type": "code",
   "execution_count": 37,
   "metadata": {},
   "outputs": [
    {
     "name": "stdin",
     "output_type": "stream",
     "text": [
      "Enter the base of the triangle 2\n",
      "Enter the height of the triangle 2\n"
     ]
    },
    {
     "name": "stdout",
     "output_type": "stream",
     "text": [
      "The area of the triangle is: 2.0\n"
     ]
    }
   ],
   "source": [
    "# Write a function to area of traingle\n",
    "# your Answer\n",
    "\n",
    "def area_triangle(base,height):\n",
    "    return 0.5 * base * height\n",
    "\n",
    "base = float(input(\"Enter the base of the triangle\"))\n",
    "height = float(input(\"Enter the height of the triangle\"))\n",
    "\n",
    "area = area_triangle(base,height)\n",
    "\n",
    "print(f\"The area of the triangle is: {area}\")\n",
    "\n",
    "\n",
    "\n",
    "\n",
    "\n"
   ]
  },
  {
   "cell_type": "code",
   "execution_count": null,
   "metadata": {},
   "outputs": [],
   "source": []
  }
 ],
 "metadata": {
  "kernelspec": {
   "display_name": "Python 3 (ipykernel)",
   "language": "python",
   "name": "python3"
  },
  "language_info": {
   "codemirror_mode": {
    "name": "ipython",
    "version": 3
   },
   "file_extension": ".py",
   "mimetype": "text/x-python",
   "name": "python",
   "nbconvert_exporter": "python",
   "pygments_lexer": "ipython3",
   "version": "3.12.7"
  }
 },
 "nbformat": 4,
 "nbformat_minor": 4
}
